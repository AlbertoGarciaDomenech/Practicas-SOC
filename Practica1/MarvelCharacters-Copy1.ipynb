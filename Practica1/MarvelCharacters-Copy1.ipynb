{
 "cells": [
  {
   "cell_type": "markdown",
   "metadata": {},
   "source": [
    "Autores: Eric Heresi Medina & Alberto García Doménech"
   ]
  },
  {
   "cell_type": "markdown",
   "metadata": {},
   "source": [
    "# Análisis Grafo Marvel Characters"
   ]
  },
  {
   "cell_type": "code",
   "execution_count": 1,
   "metadata": {},
   "outputs": [],
   "source": [
    "import networkx as nx\n",
    "import numpy as np\n",
    "import matplotlib.pyplot as plt\n",
    "import pandas as pd\n",
    "import collections as col\n",
    "#Utilizando community detection de python-louvain\n",
    "import community as com"
   ]
  },
  {
   "cell_type": "code",
   "execution_count": 2,
   "metadata": {},
   "outputs": [],
   "source": [
    "#importar el grafo en forma de lista de nodos y lista de aristas,\n",
    "#formamos el grafo de networkx a través del de aritas de pandas\n",
    "\n",
    "nodos = pd.read_csv(\"nodos.csv\")\n",
    "nodos = nodos.drop([\"timeset\"], axis=1)\n",
    "nodos = nodos.sort_values('Degree', ascending = False)\n",
    "aristas = pd.read_csv(\"Aristas.csv\")\n",
    "aristas = aristas.drop([\"Type\",\"Id\",\"Label\",\"timeset\"], axis=1)\n",
    "G = nx.from_pandas_edgelist(aristas,\"Source\",\"Target\",\"Weight\")"
   ]
  },
  {
   "cell_type": "markdown",
   "metadata": {},
   "source": [
    "## Grafo Completo"
   ]
  },
  {
   "cell_type": "code",
   "execution_count": 3,
   "metadata": {
    "scrolled": false
   },
   "outputs": [
    {
     "name": "stdout",
     "output_type": "stream",
     "text": [
      "Counter({1: 3671, 3: 1359, 5: 1333, 0: 1129, 6: 721, 4: 653, 2: 607, 7: 239, 15: 218, 10: 142, 8: 141, 11: 54, 12: 33, 13: 30, 9: 23, 20: 18, 17: 15, 14: 9, 19: 9, 16: 8, 18: 8, 23: 7, 27: 7, 22: 6, 28: 5, 30: 5, 21: 3, 24: 3, 25: 3, 26: 3, 31: 3, 29: 2, 32: 2})\n"
     ]
    }
   ],
   "source": [
    "#Se generan particiones automáticamente mediante el algoritmo de Louvain de detección de comunidades\n",
    "#Se cuenta cuantos elementos contiene cada grupo\n",
    "\n",
    "partition = com.best_partition(G)\n",
    "values = [partition.get(node) for node in G.nodes()]\n",
    "counter=col.Counter(values)\n",
    "print(counter)"
   ]
  },
  {
   "cell_type": "code",
   "execution_count": 4,
   "metadata": {},
   "outputs": [
    {
     "data": {
      "text/html": [
       "<div>\n",
       "<style scoped>\n",
       "    .dataframe tbody tr th:only-of-type {\n",
       "        vertical-align: middle;\n",
       "    }\n",
       "\n",
       "    .dataframe tbody tr th {\n",
       "        vertical-align: top;\n",
       "    }\n",
       "\n",
       "    .dataframe thead th {\n",
       "        text-align: right;\n",
       "    }\n",
       "</style>\n",
       "<table border=\"1\" class=\"dataframe\">\n",
       "  <thead>\n",
       "    <tr style=\"text-align: right;\">\n",
       "      <th></th>\n",
       "      <th>Id</th>\n",
       "      <th>Label</th>\n",
       "      <th>Degree</th>\n",
       "      <th>Group</th>\n",
       "    </tr>\n",
       "  </thead>\n",
       "  <tbody>\n",
       "    <tr>\n",
       "      <th>1</th>\n",
       "      <td>10476</td>\n",
       "      <td>IRON MAN/TONY STARK</td>\n",
       "      <td>2189</td>\n",
       "      <td>1</td>\n",
       "    </tr>\n",
       "    <tr>\n",
       "      <th>40</th>\n",
       "      <td>10556</td>\n",
       "      <td>WOLVERINE/LOGAN</td>\n",
       "      <td>1984</td>\n",
       "      <td>1</td>\n",
       "    </tr>\n",
       "    <tr>\n",
       "      <th>35</th>\n",
       "      <td>10551</td>\n",
       "      <td>CAPTAIN AMERICA</td>\n",
       "      <td>1896</td>\n",
       "      <td>0</td>\n",
       "    </tr>\n",
       "    <tr>\n",
       "      <th>32</th>\n",
       "      <td>10541</td>\n",
       "      <td>SCARLET WITCH/WANDA</td>\n",
       "      <td>1883</td>\n",
       "      <td>1</td>\n",
       "    </tr>\n",
       "    <tr>\n",
       "      <th>42</th>\n",
       "      <td>10558</td>\n",
       "      <td>VISION</td>\n",
       "      <td>1765</td>\n",
       "      <td>1</td>\n",
       "    </tr>\n",
       "    <tr>\n",
       "      <th>...</th>\n",
       "      <td>...</td>\n",
       "      <td>...</td>\n",
       "      <td>...</td>\n",
       "      <td>...</td>\n",
       "    </tr>\n",
       "    <tr>\n",
       "      <th>721</th>\n",
       "      <td>13482</td>\n",
       "      <td>ANGEL DOPPELGANGER</td>\n",
       "      <td>54</td>\n",
       "      <td>6</td>\n",
       "    </tr>\n",
       "    <tr>\n",
       "      <th>970</th>\n",
       "      <td>17410</td>\n",
       "      <td>LOCKLIN, GENERAL MER</td>\n",
       "      <td>54</td>\n",
       "      <td>4</td>\n",
       "    </tr>\n",
       "    <tr>\n",
       "      <th>646</th>\n",
       "      <td>12888</td>\n",
       "      <td>HRIMHARI</td>\n",
       "      <td>52</td>\n",
       "      <td>5</td>\n",
       "    </tr>\n",
       "    <tr>\n",
       "      <th>856</th>\n",
       "      <td>14701</td>\n",
       "      <td>SILVER SURFER DOPPEL</td>\n",
       "      <td>51</td>\n",
       "      <td>6</td>\n",
       "    </tr>\n",
       "    <tr>\n",
       "      <th>855</th>\n",
       "      <td>14700</td>\n",
       "      <td>ICEMAN DOPPELGANGER</td>\n",
       "      <td>50</td>\n",
       "      <td>6</td>\n",
       "    </tr>\n",
       "  </tbody>\n",
       "</table>\n",
       "<p>1003 rows × 4 columns</p>\n",
       "</div>"
      ],
      "text/plain": [
       "        Id                 Label  Degree  Group\n",
       "1    10476   IRON MAN/TONY STARK    2189      1\n",
       "40   10556       WOLVERINE/LOGAN    1984      1\n",
       "35   10551       CAPTAIN AMERICA    1896      0\n",
       "32   10541   SCARLET WITCH/WANDA    1883      1\n",
       "42   10558                VISION    1765      1\n",
       "..     ...                   ...     ...    ...\n",
       "721  13482    ANGEL DOPPELGANGER      54      6\n",
       "970  17410  LOCKLIN, GENERAL MER      54      4\n",
       "646  12888              HRIMHARI      52      5\n",
       "856  14701  SILVER SURFER DOPPEL      51      6\n",
       "855  14700   ICEMAN DOPPELGANGER      50      6\n",
       "\n",
       "[1003 rows x 4 columns]"
      ]
     },
     "execution_count": 4,
     "metadata": {},
     "output_type": "execute_result"
    }
   ],
   "source": [
    "#podemos mapear los elementos obtenidos a los nodos con las etiquetas de los personajes con un map\n",
    "nodos_comp = nodos\n",
    "nodos_comp[\"Group\"] = nodos_comp[\"Id\"].map(partition)\n",
    "nodos_comp.head()"
   ]
  },
  {
   "cell_type": "code",
   "execution_count": 7,
   "metadata": {
    "scrolled": true
   },
   "outputs": [
    {
     "name": "stdout",
     "output_type": "stream",
     "text": [
      "Nodos: 10469\n",
      "Aristas: 178115\n",
      "Densidad: 0.0032505853754664724\n",
      "Numero de componentes conexas: 8\n",
      "Grado medio: 34.027127710383034\n"
     ]
    }
   ],
   "source": [
    "#Numero de nodos\n",
    "N = G.number_of_nodes()\n",
    "print(f\"Nodos: {N}\")\n",
    "\n",
    "#Numero de aristas\n",
    "L = G.number_of_edges()\n",
    "print(f\"Aristas: {L}\")\n",
    "\n",
    "#Densidad: numero de aristas en relación al máximo posible de aristas con esa cantidad de nodos.\n",
    "print(f\"Densidad: {nx.density(G)}\")\n",
    "\n",
    "#numero de componentes conexas\n",
    "print(f\"Numero de componentes conexas: {nx.number_connected_components(G)}\")\n",
    "\n",
    "#Grado medio\n",
    "average_degree = 2* L / N\n",
    "print(f\"Grado medio: {average_degree}\")"
   ]
  },
  {
   "cell_type": "code",
   "execution_count": 11,
   "metadata": {},
   "outputs": [
    {
     "name": "stdout",
     "output_type": "stream",
     "text": [
      "Transitividad: 0.1413301582018682\n"
     ]
    }
   ],
   "source": [
    "#transitividad: relación de tríadas cerradas respecto al número de tríadas abiertas de la red\n",
    "print(f\"Transitividad: {nx.transitivity(G)}\")"
   ]
  },
  {
   "cell_type": "markdown",
   "metadata": {},
   "source": [
    "## Grafo Reducido"
   ]
  },
  {
   "cell_type": "markdown",
   "metadata": {},
   "source": [
    "Hemos reducido el grafo para añadirle visibilidad eliminando los nodos de menor grado, pero manteniendo los grupos que se han generado anteriormente. Así nos centramos en los personajes más relevantes de cada grupo."
   ]
  },
  {
   "cell_type": "code",
   "execution_count": 12,
   "metadata": {},
   "outputs": [],
   "source": [
    "g = G\n",
    "remove = [node for node,degree in dict(g.degree()).items() if degree < 50]\n",
    "g.remove_nodes_from(remove)"
   ]
  },
  {
   "cell_type": "code",
   "execution_count": 14,
   "metadata": {},
   "outputs": [
    {
     "name": "stdout",
     "output_type": "stream",
     "text": [
      "Counter({5: 329, 0: 281, 6: 206, 4: 180, 3: 173, 2: 157, 1: 66, 15: 28, 7: 20, 8: 17, 10: 9, 11: 2, 13: 1})\n"
     ]
    }
   ],
   "source": [
    "values = [partition.get(node) for node in g.nodes()]\n",
    "counter=col.Counter(values)\n",
    "print(counter)"
   ]
  },
  {
   "cell_type": "code",
   "execution_count": 38,
   "metadata": {},
   "outputs": [],
   "source": [
    "colores = values\n",
    "#gray, maroon, red, olive, yellow, green, lime, teal, aqua, navy, blue, purple, fuchsia\n",
    "# 0,     1,     2,    3,     4,      5,     6,    7,    8,   15,   10,    11,      13\n",
    "color_map = {0:\"#808080\", 1:\"#800000\", 2:\"#ff0000\", 3:\"#808000\", 4:\"#ffff00\", 5:\"#008000\", 6:\"#00ff00\", 7:\"#008080\", 8:\"#00ffff\", 15:\"#000080\", 10:\"#0000ff\", 11: \"#800080\", 13:\"#ff00ff\"}\n",
    "colores = [color_map[k] for k in colores]"
   ]
  },
  {
   "cell_type": "markdown",
   "metadata": {},
   "source": [
    "Como se puede observar el número de grupos ha disminuido e incluso hay grupos que se han reducido hasta llegar a ser de solo uno o dos miembros. "
   ]
  },
  {
   "cell_type": "code",
   "execution_count": 39,
   "metadata": {},
   "outputs": [
    {
     "data": {
      "image/png": "[encoded data removed]",
      "text/plain": [
       "<Figure size 432x288 with 1 Axes>"
      ]
     },
     "metadata": {},
     "output_type": "display_data"
    }
   ],
   "source": [
    "#usando el spring layout para conseguir un Force-directed graph drawing\n",
    "sp = nx.spring_layout(g)\n",
    "nx.draw_networkx(g, pos=sp, with_labels=False, node_size=35, node_color=colores)\n",
    "#plt.axes('off')\n",
    "plt.show()\n",
    "\n",
    "###faltaría mapear los colores para poder averiguar, por ejemplo, cuál es la comunidad amarilla."
   ]
  },
  {
   "cell_type": "code",
   "execution_count": 40,
   "metadata": {},
   "outputs": [
    {
     "data": {
      "image/png": "[encoded data removed]",
      "text/plain": [
       "<Figure size 432x288 with 1 Axes>"
      ]
     },
     "metadata": {},
     "output_type": "display_data"
    }
   ],
   "source": [
    "#usando el layout de fruchterman_reingold\n",
    "sp = nx.fruchterman_reingold_layout(g)\n",
    "nx.draw_networkx(g, pos=sp, with_labels=False, node_size=35, node_color=colores)\n",
    "#plt.axes('off')\n",
    "plt.show()"
   ]
  },
  {
   "cell_type": "code",
   "execution_count": 17,
   "metadata": {},
   "outputs": [
    {
     "name": "stdout",
     "output_type": "stream",
     "text": [
      "Nodos: 1469\n",
      "Aristas: 87020\n",
      "Densidad: 0.08070514520805085\n",
      "Numero de componentes conexas: 1\n",
      "Grado medio: 118.47515316541865\n"
     ]
    }
   ],
   "source": [
    "#Numero de nodos\n",
    "N = g.number_of_nodes()\n",
    "print(f\"Nodos: {N}\")\n",
    "\n",
    "#Numero de aristas\n",
    "L = g.number_of_edges()\n",
    "print(f\"Aristas: {L}\")\n",
    "\n",
    "#Densidad: numero de aristas en relación al máximo posible de aristas con esa cantidad de nodos.\n",
    "print(f\"Densidad: {nx.density(g)}\")\n",
    "\n",
    "#numero de componentes conexas\n",
    "print(f\"Numero de componentes conexas: {nx.number_connected_components(g)}\")\n",
    "\n",
    "#Grado medio\n",
    "average_degree = 2* L / N\n",
    "print(f\"Grado medio: {average_degree}\")"
   ]
  },
  {
   "cell_type": "code",
   "execution_count": 18,
   "metadata": {
    "scrolled": true
   },
   "outputs": [
    {
     "name": "stdout",
     "output_type": "stream",
     "text": [
      "Distancia media: 1.9794323373330391\n",
      "Radio: 2\n",
      "Transitividad: 0.308493463896264\n"
     ]
    }
   ],
   "source": [
    "#distancia media entre nodos\n",
    "print(f\"Distancia media: {nx.average_shortest_path_length(g)}\")\n",
    "\n",
    "#radio: Valor minimo de excentricidad\n",
    "print(f\"Radio: {nx.radius(g)}\")\n",
    "\n",
    "#transitividad: relación de tríadas cerradas respecto al número de tríadas abiertas de la red\n",
    "print(f\"Transitividad: {nx.transitivity(g)}\")"
   ]
  },
  {
   "cell_type": "code",
   "execution_count": 43,
   "metadata": {},
   "outputs": [
    {
     "data": {
      "text/html": [
       "<div>\n",
       "<style scoped>\n",
       "    .dataframe tbody tr th:only-of-type {\n",
       "        vertical-align: middle;\n",
       "    }\n",
       "\n",
       "    .dataframe tbody tr th {\n",
       "        vertical-align: top;\n",
       "    }\n",
       "\n",
       "    .dataframe thead th {\n",
       "        text-align: right;\n",
       "    }\n",
       "</style>\n",
       "<table border=\"1\" class=\"dataframe\">\n",
       "  <thead>\n",
       "    <tr style=\"text-align: right;\">\n",
       "      <th></th>\n",
       "      <th>Id</th>\n",
       "      <th>Label</th>\n",
       "      <th>Degree</th>\n",
       "      <th>Group</th>\n",
       "    </tr>\n",
       "  </thead>\n",
       "  <tbody>\n",
       "    <tr>\n",
       "      <th>126</th>\n",
       "      <td>10758</td>\n",
       "      <td>BLACK MAMBA/TANYA SE</td>\n",
       "      <td>166</td>\n",
       "      <td>0</td>\n",
       "    </tr>\n",
       "    <tr>\n",
       "      <th>799</th>\n",
       "      <td>14284</td>\n",
       "      <td>SCORCHER/</td>\n",
       "      <td>74</td>\n",
       "      <td>0</td>\n",
       "    </tr>\n",
       "    <tr>\n",
       "      <th>419</th>\n",
       "      <td>11809</td>\n",
       "      <td>BAYMAX</td>\n",
       "      <td>75</td>\n",
       "      <td>0</td>\n",
       "    </tr>\n",
       "    <tr>\n",
       "      <th>392</th>\n",
       "      <td>11674</td>\n",
       "      <td>FALCON/SAM WILSON</td>\n",
       "      <td>537</td>\n",
       "      <td>0</td>\n",
       "    </tr>\n",
       "    <tr>\n",
       "      <th>568</th>\n",
       "      <td>12362</td>\n",
       "      <td>MELTER/BRUNO HORGAN</td>\n",
       "      <td>168</td>\n",
       "      <td>0</td>\n",
       "    </tr>\n",
       "    <tr>\n",
       "      <th>128</th>\n",
       "      <td>10760</td>\n",
       "      <td>ROCK PYTHON</td>\n",
       "      <td>76</td>\n",
       "      <td>0</td>\n",
       "    </tr>\n",
       "    <tr>\n",
       "      <th>354</th>\n",
       "      <td>11508</td>\n",
       "      <td>BINARY/CAROL DANVERS</td>\n",
       "      <td>533</td>\n",
       "      <td>0</td>\n",
       "    </tr>\n",
       "    <tr>\n",
       "      <th>130</th>\n",
       "      <td>10762</td>\n",
       "      <td>PUFF ADDER</td>\n",
       "      <td>76</td>\n",
       "      <td>0</td>\n",
       "    </tr>\n",
       "    <tr>\n",
       "      <th>563</th>\n",
       "      <td>12355</td>\n",
       "      <td>SHELLSHOCK/</td>\n",
       "      <td>76</td>\n",
       "      <td>0</td>\n",
       "    </tr>\n",
       "    <tr>\n",
       "      <th>294</th>\n",
       "      <td>11316</td>\n",
       "      <td>DR. SPECTRUM/JOSEPH</td>\n",
       "      <td>240</td>\n",
       "      <td>1</td>\n",
       "    </tr>\n",
       "    <tr>\n",
       "      <th>4</th>\n",
       "      <td>10488</td>\n",
       "      <td>STARSHINE II/BRANDY</td>\n",
       "      <td>220</td>\n",
       "      <td>1</td>\n",
       "    </tr>\n",
       "    <tr>\n",
       "      <th>58</th>\n",
       "      <td>10574</td>\n",
       "      <td>ANDROMEDA/ANDROMEDA</td>\n",
       "      <td>155</td>\n",
       "      <td>1</td>\n",
       "    </tr>\n",
       "    <tr>\n",
       "      <th>733</th>\n",
       "      <td>13519</td>\n",
       "      <td>PILEDRIVER II/BRIAN</td>\n",
       "      <td>258</td>\n",
       "      <td>1</td>\n",
       "    </tr>\n",
       "    <tr>\n",
       "      <th>144</th>\n",
       "      <td>10791</td>\n",
       "      <td>MR. SINISTER/NATHAN</td>\n",
       "      <td>242</td>\n",
       "      <td>1</td>\n",
       "    </tr>\n",
       "    <tr>\n",
       "      <th>1</th>\n",
       "      <td>10476</td>\n",
       "      <td>IRON MAN/TONY STARK</td>\n",
       "      <td>2189</td>\n",
       "      <td>1</td>\n",
       "    </tr>\n",
       "    <tr>\n",
       "      <th>635</th>\n",
       "      <td>12811</td>\n",
       "      <td>X-MAN/NATHAN GREY</td>\n",
       "      <td>341</td>\n",
       "      <td>1</td>\n",
       "    </tr>\n",
       "    <tr>\n",
       "      <th>517</th>\n",
       "      <td>12176</td>\n",
       "      <td>STINGRAY/DR. WALTER</td>\n",
       "      <td>371</td>\n",
       "      <td>1</td>\n",
       "    </tr>\n",
       "    <tr>\n",
       "      <th>498</th>\n",
       "      <td>12096</td>\n",
       "      <td>BEETLE/ABNER RONALD</td>\n",
       "      <td>593</td>\n",
       "      <td>1</td>\n",
       "    </tr>\n",
       "    <tr>\n",
       "      <th>552</th>\n",
       "      <td>12297</td>\n",
       "      <td>AURORA/JEANNE-MARIE</td>\n",
       "      <td>556</td>\n",
       "      <td>1</td>\n",
       "    </tr>\n",
       "    <tr>\n",
       "      <th>152</th>\n",
       "      <td>10804</td>\n",
       "      <td>MAGNETO/MAGNUS/ERIC</td>\n",
       "      <td>764</td>\n",
       "      <td>1</td>\n",
       "    </tr>\n",
       "    <tr>\n",
       "      <th>283</th>\n",
       "      <td>11269</td>\n",
       "      <td>GAMBIT/REMY LEBEAU</td>\n",
       "      <td>867</td>\n",
       "      <td>1</td>\n",
       "    </tr>\n",
       "    <tr>\n",
       "      <th>214</th>\n",
       "      <td>10994</td>\n",
       "      <td>DR. DOOM/VICTOR VON</td>\n",
       "      <td>892</td>\n",
       "      <td>1</td>\n",
       "    </tr>\n",
       "    <tr>\n",
       "      <th>367</th>\n",
       "      <td>11559</td>\n",
       "      <td>APOCALYPSE/EN SABAH</td>\n",
       "      <td>365</td>\n",
       "      <td>1</td>\n",
       "    </tr>\n",
       "    <tr>\n",
       "      <th>347</th>\n",
       "      <td>11469</td>\n",
       "      <td>SHADOWCAT/KATHERINE</td>\n",
       "      <td>1001</td>\n",
       "      <td>1</td>\n",
       "    </tr>\n",
       "    <tr>\n",
       "      <th>82</th>\n",
       "      <td>10645</td>\n",
       "      <td>ROSS, GEN. THADDEUS</td>\n",
       "      <td>432</td>\n",
       "      <td>1</td>\n",
       "    </tr>\n",
       "    <tr>\n",
       "      <th>436</th>\n",
       "      <td>11853</td>\n",
       "      <td>CITIZEN V II/HELMUT</td>\n",
       "      <td>432</td>\n",
       "      <td>1</td>\n",
       "    </tr>\n",
       "    <tr>\n",
       "      <th>366</th>\n",
       "      <td>11557</td>\n",
       "      <td>BLACK KNIGHT V/DANE</td>\n",
       "      <td>1042</td>\n",
       "      <td>1</td>\n",
       "    </tr>\n",
       "    <tr>\n",
       "      <th>438</th>\n",
       "      <td>11872</td>\n",
       "      <td>MARROW/SARAH</td>\n",
       "      <td>318</td>\n",
       "      <td>1</td>\n",
       "    </tr>\n",
       "    <tr>\n",
       "      <th>60</th>\n",
       "      <td>10576</td>\n",
       "      <td>GHOST RIDER III/DAN</td>\n",
       "      <td>391</td>\n",
       "      <td>1</td>\n",
       "    </tr>\n",
       "    <tr>\n",
       "      <th>556</th>\n",
       "      <td>12315</td>\n",
       "      <td>SNOWBIRD/NARYA/ANNE</td>\n",
       "      <td>313</td>\n",
       "      <td>1</td>\n",
       "    </tr>\n",
       "    <tr>\n",
       "      <th>167</th>\n",
       "      <td>10844</td>\n",
       "      <td>BLACK WIDOW/NATASHA</td>\n",
       "      <td>1242</td>\n",
       "      <td>1</td>\n",
       "    </tr>\n",
       "    <tr>\n",
       "      <th>136</th>\n",
       "      <td>10769</td>\n",
       "      <td>HAVOK/ALEX SUMMERS</td>\n",
       "      <td>1098</td>\n",
       "      <td>1</td>\n",
       "    </tr>\n",
       "    <tr>\n",
       "      <th>76</th>\n",
       "      <td>10638</td>\n",
       "      <td>DR. STRANGE/STEPHEN</td>\n",
       "      <td>1489</td>\n",
       "      <td>1</td>\n",
       "    </tr>\n",
       "    <tr>\n",
       "      <th>40</th>\n",
       "      <td>10556</td>\n",
       "      <td>WOLVERINE/LOGAN</td>\n",
       "      <td>1984</td>\n",
       "      <td>1</td>\n",
       "    </tr>\n",
       "    <tr>\n",
       "      <th>32</th>\n",
       "      <td>10541</td>\n",
       "      <td>SCARLET WITCH/WANDA</td>\n",
       "      <td>1883</td>\n",
       "      <td>1</td>\n",
       "    </tr>\n",
       "    <tr>\n",
       "      <th>42</th>\n",
       "      <td>10558</td>\n",
       "      <td>VISION</td>\n",
       "      <td>1765</td>\n",
       "      <td>1</td>\n",
       "    </tr>\n",
       "    <tr>\n",
       "      <th>55</th>\n",
       "      <td>10571</td>\n",
       "      <td>INVISIBLE WOMAN/SUE</td>\n",
       "      <td>1750</td>\n",
       "      <td>1</td>\n",
       "    </tr>\n",
       "    <tr>\n",
       "      <th>26</th>\n",
       "      <td>10535</td>\n",
       "      <td>WASP/JANET VAN DYNE</td>\n",
       "      <td>1517</td>\n",
       "      <td>1</td>\n",
       "    </tr>\n",
       "  </tbody>\n",
       "</table>\n",
       "</div>"
      ],
      "text/plain": [
       "        Id                 Label  Degree  Group\n",
       "126  10758  BLACK MAMBA/TANYA SE     166      0\n",
       "799  14284             SCORCHER/      74      0\n",
       "419  11809                BAYMAX      75      0\n",
       "392  11674     FALCON/SAM WILSON     537      0\n",
       "568  12362   MELTER/BRUNO HORGAN     168      0\n",
       "128  10760           ROCK PYTHON      76      0\n",
       "354  11508  BINARY/CAROL DANVERS     533      0\n",
       "130  10762            PUFF ADDER      76      0\n",
       "563  12355           SHELLSHOCK/      76      0\n",
       "294  11316   DR. SPECTRUM/JOSEPH     240      1\n",
       "4    10488   STARSHINE II/BRANDY     220      1\n",
       "58   10574   ANDROMEDA/ANDROMEDA     155      1\n",
       "733  13519   PILEDRIVER II/BRIAN     258      1\n",
       "144  10791   MR. SINISTER/NATHAN     242      1\n",
       "1    10476   IRON MAN/TONY STARK    2189      1\n",
       "635  12811     X-MAN/NATHAN GREY     341      1\n",
       "517  12176   STINGRAY/DR. WALTER     371      1\n",
       "498  12096   BEETLE/ABNER RONALD     593      1\n",
       "552  12297   AURORA/JEANNE-MARIE     556      1\n",
       "152  10804   MAGNETO/MAGNUS/ERIC     764      1\n",
       "283  11269    GAMBIT/REMY LEBEAU     867      1\n",
       "214  10994   DR. DOOM/VICTOR VON     892      1\n",
       "367  11559   APOCALYPSE/EN SABAH     365      1\n",
       "347  11469   SHADOWCAT/KATHERINE    1001      1\n",
       "82   10645   ROSS, GEN. THADDEUS     432      1\n",
       "436  11853   CITIZEN V II/HELMUT     432      1\n",
       "366  11557   BLACK KNIGHT V/DANE    1042      1\n",
       "438  11872          MARROW/SARAH     318      1\n",
       "60   10576   GHOST RIDER III/DAN     391      1\n",
       "556  12315   SNOWBIRD/NARYA/ANNE     313      1\n",
       "167  10844   BLACK WIDOW/NATASHA    1242      1\n",
       "136  10769    HAVOK/ALEX SUMMERS    1098      1\n",
       "76   10638   DR. STRANGE/STEPHEN    1489      1\n",
       "40   10556       WOLVERINE/LOGAN    1984      1\n",
       "32   10541   SCARLET WITCH/WANDA    1883      1\n",
       "42   10558                VISION    1765      1\n",
       "55   10571   INVISIBLE WOMAN/SUE    1750      1\n",
       "26   10535   WASP/JANET VAN DYNE    1517      1"
      ]
     },
     "execution_count": 43,
     "metadata": {},
     "output_type": "execute_result"
    }
   ],
   "source": [
    "nodos_group = nodos.sort_values('Group', ascending = True)\n",
    "nodos_group[182:220]\n",
    "\n",
    "##necesitamos la lista completa de nodos para poder cortarla de la misma forma que cortamos al grafo"
   ]
  },
  {
   "cell_type": "code",
   "execution_count": null,
   "metadata": {},
   "outputs": [],
   "source": []
  }
 ],
 "metadata": {
  "kernelspec": {
   "display_name": "Python 3",
   "language": "python",
   "name": "python3"
  },
  "language_info": {
   "codemirror_mode": {
    "name": "ipython",
    "version": 3
   },
   "file_extension": ".py",
   "mimetype": "text/x-python",
   "name": "python",
   "nbconvert_exporter": "python",
   "pygments_lexer": "ipython3",
   "version": "3.7.6"
  }
 },
 "nbformat": 4,
 "nbformat_minor": 4
}
