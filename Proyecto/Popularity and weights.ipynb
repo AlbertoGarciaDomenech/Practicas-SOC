{
 "cells": [
  {
   "cell_type": "code",
   "execution_count": 1,
   "metadata": {},
   "outputs": [],
   "source": [
    "import networkx as nx\n",
    "import numpy as np\n",
    "import matplotlib.pyplot as plt\n",
    "import pandas as pd\n",
    "import collections as col\n",
    "#Utilizando community detection de python-louvain\n",
    "import community as com\n",
    "# API de spotify\n",
    "import spotipy\n",
    "from spotipy.oauth2 import SpotifyClientCredentials\n",
    "sp = spotipy.Spotify(auth_manager=SpotifyClientCredentials(client_id=\"33eca6309d3344028987abab11e234bc\",\n",
    "                                                           client_secret=\"25f6177ad5db47b687266bfdd2e990e2\"))\n",
    "import collections"
   ]
  },
  {
   "cell_type": "code",
   "execution_count": 3,
   "metadata": {},
   "outputs": [],
   "source": [
    "#import de los dos grafos\n",
    "G_esp = nx.read_gexf(\"top200esp_updated.gexf\")\n",
    "G_global = nx.read_gexf(\"top200global_updated.gexf\")"
   ]
  },
  {
   "cell_type": "code",
   "execution_count": 4,
   "metadata": {},
   "outputs": [
    {
     "data": {
      "text/plain": [
       "<AxesSubplot:xlabel='popularidad', ylabel='exito_medio'>"
      ]
     },
     "execution_count": 4,
     "metadata": {},
     "output_type": "execute_result"
    },
    {
     "data": {
      "image/png": "[encoded data removed]",
      "text/plain": [
       "<Figure size 432x288 with 1 Axes>"
      ]
     },
     "metadata": {
      "needs_background": "light"
     },
     "output_type": "display_data"
    }
   ],
   "source": [
    "#cálculo del éxito medio a través del peso medio de nodos que superen el grado 2\n",
    "#y cuyas colaboraciones son más de tres canciones distintas.\n",
    "\n",
    "dic_media = {}\n",
    "for i in G_global.nodes():\n",
    "    suma = 0\n",
    "    if G_global.degree(i) > 2:\n",
    "        canciones = set()\n",
    "        for j in G_global.edges(i, True):\n",
    "            suma += j[2]['weight']\n",
    "            canciones.add(j[2]['Song'])\n",
    "        if len(canciones) > 3:\n",
    "            dic_media[i] = suma/G_global.degree(i)\n",
    "df_global = pd.DataFrame.from_dict(dic_media, \"index\")\n",
    "df_global.sort_values(by=0, ascending=False)\n",
    "result = []\n",
    "for index, row in df_global.iterrows():\n",
    "    result.append(G_global.nodes[index][\"Popularity\"])\n",
    "df_global[\"popularity\"] = result \n",
    "df_global.columns = ['exito_medio', 'popularidad']\n",
    "%matplotlib inline\n",
    "df_global.plot(kind='scatter', x=\"popularidad\", y=\"exito_medio\")"
   ]
  },
  {
   "cell_type": "code",
   "execution_count": 7,
   "metadata": {},
   "outputs": [
    {
     "data": {
      "text/plain": [
       "<AxesSubplot:xlabel='popularidad', ylabel='exito_medio'>"
      ]
     },
     "execution_count": 7,
     "metadata": {},
     "output_type": "execute_result"
    },
    {
     "data": {
      "image/png": "[encoded data removed]",
      "text/plain": [
       "<Figure size 432x288 with 1 Axes>"
      ]
     },
     "metadata": {
      "needs_background": "light"
     },
     "output_type": "display_data"
    }
   ],
   "source": [
    "dic_media = {}\n",
    "for i in G_esp.nodes():\n",
    "    suma = 0\n",
    "    if G_esp.degree(i) > 2:\n",
    "        canciones = set()\n",
    "        for j in G_esp.edges(i, True):\n",
    "            suma += j[2]['weight']\n",
    "            canciones.add(j[2]['Song'])\n",
    "        if len(canciones) > 3:\n",
    "            dic_media[i] = suma/G_esp.degree(i)\n",
    "df_esp = pd.DataFrame.from_dict(dic_media, \"index\")\n",
    "df_esp.sort_values(by=0, ascending=False)\n",
    "result = []\n",
    "for index, row in df_esp.iterrows():\n",
    "    result.append(G_esp.nodes[index][\"Popularity\"])\n",
    "df_esp[\"popularity\"] = result \n",
    "df_esp.columns = ['exito_medio', 'popularidad']\n",
    "%matplotlib inline\n",
    "df_esp.plot(kind='scatter', x=\"popularidad\", y=\"exito_medio\")"
   ]
  },
  {
   "cell_type": "code",
   "execution_count": 8,
   "metadata": {},
   "outputs": [
    {
     "data": {
      "text/html": [
       "<div>\n",
       "<style scoped>\n",
       "    .dataframe tbody tr th:only-of-type {\n",
       "        vertical-align: middle;\n",
       "    }\n",
       "\n",
       "    .dataframe tbody tr th {\n",
       "        vertical-align: top;\n",
       "    }\n",
       "\n",
       "    .dataframe thead th {\n",
       "        text-align: right;\n",
       "    }\n",
       "</style>\n",
       "<table border=\"1\" class=\"dataframe\">\n",
       "  <thead>\n",
       "    <tr style=\"text-align: right;\">\n",
       "      <th></th>\n",
       "      <th>exito_medio</th>\n",
       "      <th>popularidad</th>\n",
       "    </tr>\n",
       "  </thead>\n",
       "  <tbody>\n",
       "    <tr>\n",
       "      <th>Lenny Tavárez</th>\n",
       "      <td>58.380952</td>\n",
       "      <td>88</td>\n",
       "    </tr>\n",
       "    <tr>\n",
       "      <th>Dalex</th>\n",
       "      <td>52.681818</td>\n",
       "      <td>85</td>\n",
       "    </tr>\n",
       "    <tr>\n",
       "      <th>Sech</th>\n",
       "      <td>48.407407</td>\n",
       "      <td>90</td>\n",
       "    </tr>\n",
       "    <tr>\n",
       "      <th>Feid</th>\n",
       "      <td>46.214286</td>\n",
       "      <td>81</td>\n",
       "    </tr>\n",
       "    <tr>\n",
       "      <th>Ozuna</th>\n",
       "      <td>46.119048</td>\n",
       "      <td>93</td>\n",
       "    </tr>\n",
       "    <tr>\n",
       "      <th>...</th>\n",
       "      <td>...</td>\n",
       "      <td>...</td>\n",
       "    </tr>\n",
       "    <tr>\n",
       "      <th>Anderson .Paak</th>\n",
       "      <td>1.400000</td>\n",
       "      <td>79</td>\n",
       "    </tr>\n",
       "    <tr>\n",
       "      <th>Luciano</th>\n",
       "      <td>1.363636</td>\n",
       "      <td>78</td>\n",
       "    </tr>\n",
       "    <tr>\n",
       "      <th>Sfera Ebbasta</th>\n",
       "      <td>1.312500</td>\n",
       "      <td>82</td>\n",
       "    </tr>\n",
       "    <tr>\n",
       "      <th>Salmo</th>\n",
       "      <td>1.142857</td>\n",
       "      <td>74</td>\n",
       "    </tr>\n",
       "    <tr>\n",
       "      <th>KSI</th>\n",
       "      <td>1.000000</td>\n",
       "      <td>77</td>\n",
       "    </tr>\n",
       "  </tbody>\n",
       "</table>\n",
       "<p>206 rows × 2 columns</p>\n",
       "</div>"
      ],
      "text/plain": [
       "                exito_medio  popularidad\n",
       "Lenny Tavárez     58.380952           88\n",
       "Dalex             52.681818           85\n",
       "Sech              48.407407           90\n",
       "Feid              46.214286           81\n",
       "Ozuna             46.119048           93\n",
       "...                     ...          ...\n",
       "Anderson .Paak     1.400000           79\n",
       "Luciano            1.363636           78\n",
       "Sfera Ebbasta      1.312500           82\n",
       "Salmo              1.142857           74\n",
       "KSI                1.000000           77\n",
       "\n",
       "[206 rows x 2 columns]"
      ]
     },
     "execution_count": 8,
     "metadata": {},
     "output_type": "execute_result"
    }
   ],
   "source": [
    "df_global.sort_values(by=\"exito_medio\", ascending=False)"
   ]
  },
  {
   "cell_type": "code",
   "execution_count": 10,
   "metadata": {},
   "outputs": [
    {
     "data": {
      "text/html": [
       "<div>\n",
       "<style scoped>\n",
       "    .dataframe tbody tr th:only-of-type {\n",
       "        vertical-align: middle;\n",
       "    }\n",
       "\n",
       "    .dataframe tbody tr th {\n",
       "        vertical-align: top;\n",
       "    }\n",
       "\n",
       "    .dataframe thead th {\n",
       "        text-align: right;\n",
       "    }\n",
       "</style>\n",
       "<table border=\"1\" class=\"dataframe\">\n",
       "  <thead>\n",
       "    <tr style=\"text-align: right;\">\n",
       "      <th></th>\n",
       "      <th>exito_medio</th>\n",
       "      <th>popularidad</th>\n",
       "    </tr>\n",
       "  </thead>\n",
       "  <tbody>\n",
       "    <tr>\n",
       "      <th>Bad Bunny</th>\n",
       "      <td>36.240000</td>\n",
       "      <td>100</td>\n",
       "    </tr>\n",
       "    <tr>\n",
       "      <th>Ariana Grande</th>\n",
       "      <td>10.538462</td>\n",
       "      <td>98</td>\n",
       "    </tr>\n",
       "    <tr>\n",
       "      <th>Juice WRLD</th>\n",
       "      <td>14.464286</td>\n",
       "      <td>98</td>\n",
       "    </tr>\n",
       "    <tr>\n",
       "      <th>Taylor Swift</th>\n",
       "      <td>17.000000</td>\n",
       "      <td>98</td>\n",
       "    </tr>\n",
       "    <tr>\n",
       "      <th>Drake</th>\n",
       "      <td>21.804348</td>\n",
       "      <td>97</td>\n",
       "    </tr>\n",
       "    <tr>\n",
       "      <th>...</th>\n",
       "      <td>...</td>\n",
       "      <td>...</td>\n",
       "    </tr>\n",
       "    <tr>\n",
       "      <th>Funk Wav</th>\n",
       "      <td>18.157895</td>\n",
       "      <td>70</td>\n",
       "    </tr>\n",
       "    <tr>\n",
       "      <th>Royce Da 5'9\"</th>\n",
       "      <td>2.428571</td>\n",
       "      <td>69</td>\n",
       "    </tr>\n",
       "    <tr>\n",
       "      <th>Juju</th>\n",
       "      <td>3.200000</td>\n",
       "      <td>68</td>\n",
       "    </tr>\n",
       "    <tr>\n",
       "      <th>KIDS SEE GHOSTS</th>\n",
       "      <td>1.500000</td>\n",
       "      <td>67</td>\n",
       "    </tr>\n",
       "    <tr>\n",
       "      <th>Offset</th>\n",
       "      <td>18.526316</td>\n",
       "      <td>33</td>\n",
       "    </tr>\n",
       "  </tbody>\n",
       "</table>\n",
       "<p>206 rows × 2 columns</p>\n",
       "</div>"
      ],
      "text/plain": [
       "                 exito_medio  popularidad\n",
       "Bad Bunny          36.240000          100\n",
       "Ariana Grande      10.538462           98\n",
       "Juice WRLD         14.464286           98\n",
       "Taylor Swift       17.000000           98\n",
       "Drake              21.804348           97\n",
       "...                      ...          ...\n",
       "Funk Wav           18.157895           70\n",
       "Royce Da 5'9\"       2.428571           69\n",
       "Juju                3.200000           68\n",
       "KIDS SEE GHOSTS     1.500000           67\n",
       "Offset             18.526316           33\n",
       "\n",
       "[206 rows x 2 columns]"
      ]
     },
     "execution_count": 10,
     "metadata": {},
     "output_type": "execute_result"
    }
   ],
   "source": [
    "df_global.sort_values(by=\"popularidad\", ascending=False)"
   ]
  },
  {
   "cell_type": "code",
   "execution_count": 11,
   "metadata": {},
   "outputs": [
    {
     "data": {
      "text/html": [
       "<div>\n",
       "<style scoped>\n",
       "    .dataframe tbody tr th:only-of-type {\n",
       "        vertical-align: middle;\n",
       "    }\n",
       "\n",
       "    .dataframe tbody tr th {\n",
       "        vertical-align: top;\n",
       "    }\n",
       "\n",
       "    .dataframe thead th {\n",
       "        text-align: right;\n",
       "    }\n",
       "</style>\n",
       "<table border=\"1\" class=\"dataframe\">\n",
       "  <thead>\n",
       "    <tr style=\"text-align: right;\">\n",
       "      <th></th>\n",
       "      <th>exito_medio</th>\n",
       "      <th>popularidad</th>\n",
       "    </tr>\n",
       "  </thead>\n",
       "  <tbody>\n",
       "    <tr>\n",
       "      <th>Juanes</th>\n",
       "      <td>76.523810</td>\n",
       "      <td>78</td>\n",
       "    </tr>\n",
       "    <tr>\n",
       "      <th>Pablo Alborán</th>\n",
       "      <td>74.571429</td>\n",
       "      <td>79</td>\n",
       "    </tr>\n",
       "    <tr>\n",
       "      <th>Shakira</th>\n",
       "      <td>71.791667</td>\n",
       "      <td>87</td>\n",
       "    </tr>\n",
       "    <tr>\n",
       "      <th>Dalex</th>\n",
       "      <td>67.633333</td>\n",
       "      <td>85</td>\n",
       "    </tr>\n",
       "    <tr>\n",
       "      <th>Lenny Tavárez</th>\n",
       "      <td>65.285714</td>\n",
       "      <td>88</td>\n",
       "    </tr>\n",
       "    <tr>\n",
       "      <th>...</th>\n",
       "      <td>...</td>\n",
       "      <td>...</td>\n",
       "    </tr>\n",
       "    <tr>\n",
       "      <th>Miki Núñez</th>\n",
       "      <td>1.625000</td>\n",
       "      <td>58</td>\n",
       "    </tr>\n",
       "    <tr>\n",
       "      <th>Alba Reche</th>\n",
       "      <td>1.500000</td>\n",
       "      <td>59</td>\n",
       "    </tr>\n",
       "    <tr>\n",
       "      <th>Julia Medina</th>\n",
       "      <td>1.333333</td>\n",
       "      <td>45</td>\n",
       "    </tr>\n",
       "    <tr>\n",
       "      <th>Marta Sango</th>\n",
       "      <td>1.250000</td>\n",
       "      <td>38</td>\n",
       "    </tr>\n",
       "    <tr>\n",
       "      <th>María Escarmiento</th>\n",
       "      <td>1.200000</td>\n",
       "      <td>40</td>\n",
       "    </tr>\n",
       "  </tbody>\n",
       "</table>\n",
       "<p>207 rows × 2 columns</p>\n",
       "</div>"
      ],
      "text/plain": [
       "                   exito_medio  popularidad\n",
       "Juanes               76.523810           78\n",
       "Pablo Alborán        74.571429           79\n",
       "Shakira              71.791667           87\n",
       "Dalex                67.633333           85\n",
       "Lenny Tavárez        65.285714           88\n",
       "...                        ...          ...\n",
       "Miki Núñez            1.625000           58\n",
       "Alba Reche            1.500000           59\n",
       "Julia Medina          1.333333           45\n",
       "Marta Sango           1.250000           38\n",
       "María Escarmiento     1.200000           40\n",
       "\n",
       "[207 rows x 2 columns]"
      ]
     },
     "execution_count": 11,
     "metadata": {},
     "output_type": "execute_result"
    }
   ],
   "source": [
    "df_esp.sort_values(by=\"exito_medio\", ascending=False)"
   ]
  },
  {
   "cell_type": "code",
   "execution_count": 12,
   "metadata": {},
   "outputs": [
    {
     "data": {
      "text/html": [
       "<div>\n",
       "<style scoped>\n",
       "    .dataframe tbody tr th:only-of-type {\n",
       "        vertical-align: middle;\n",
       "    }\n",
       "\n",
       "    .dataframe tbody tr th {\n",
       "        vertical-align: top;\n",
       "    }\n",
       "\n",
       "    .dataframe thead th {\n",
       "        text-align: right;\n",
       "    }\n",
       "</style>\n",
       "<table border=\"1\" class=\"dataframe\">\n",
       "  <thead>\n",
       "    <tr style=\"text-align: right;\">\n",
       "      <th></th>\n",
       "      <th>exito_medio</th>\n",
       "      <th>popularidad</th>\n",
       "    </tr>\n",
       "  </thead>\n",
       "  <tbody>\n",
       "    <tr>\n",
       "      <th>Bad Bunny</th>\n",
       "      <td>50.951807</td>\n",
       "      <td>100</td>\n",
       "    </tr>\n",
       "    <tr>\n",
       "      <th>Ariana Grande</th>\n",
       "      <td>6.666667</td>\n",
       "      <td>98</td>\n",
       "    </tr>\n",
       "    <tr>\n",
       "      <th>Drake</th>\n",
       "      <td>12.500000</td>\n",
       "      <td>97</td>\n",
       "    </tr>\n",
       "    <tr>\n",
       "      <th>J Balvin</th>\n",
       "      <td>47.710843</td>\n",
       "      <td>96</td>\n",
       "    </tr>\n",
       "    <tr>\n",
       "      <th>Justin Bieber</th>\n",
       "      <td>19.681818</td>\n",
       "      <td>96</td>\n",
       "    </tr>\n",
       "    <tr>\n",
       "      <th>...</th>\n",
       "      <td>...</td>\n",
       "      <td>...</td>\n",
       "    </tr>\n",
       "    <tr>\n",
       "      <th>InnerCut</th>\n",
       "      <td>4.714286</td>\n",
       "      <td>56</td>\n",
       "    </tr>\n",
       "    <tr>\n",
       "      <th>Julia Medina</th>\n",
       "      <td>1.333333</td>\n",
       "      <td>45</td>\n",
       "    </tr>\n",
       "    <tr>\n",
       "      <th>María Escarmiento</th>\n",
       "      <td>1.200000</td>\n",
       "      <td>40</td>\n",
       "    </tr>\n",
       "    <tr>\n",
       "      <th>Carlos Right</th>\n",
       "      <td>2.000000</td>\n",
       "      <td>38</td>\n",
       "    </tr>\n",
       "    <tr>\n",
       "      <th>Marta Sango</th>\n",
       "      <td>1.250000</td>\n",
       "      <td>38</td>\n",
       "    </tr>\n",
       "  </tbody>\n",
       "</table>\n",
       "<p>207 rows × 2 columns</p>\n",
       "</div>"
      ],
      "text/plain": [
       "                   exito_medio  popularidad\n",
       "Bad Bunny            50.951807          100\n",
       "Ariana Grande         6.666667           98\n",
       "Drake                12.500000           97\n",
       "J Balvin             47.710843           96\n",
       "Justin Bieber        19.681818           96\n",
       "...                        ...          ...\n",
       "InnerCut              4.714286           56\n",
       "Julia Medina          1.333333           45\n",
       "María Escarmiento     1.200000           40\n",
       "Carlos Right          2.000000           38\n",
       "Marta Sango           1.250000           38\n",
       "\n",
       "[207 rows x 2 columns]"
      ]
     },
     "execution_count": 12,
     "metadata": {},
     "output_type": "execute_result"
    }
   ],
   "source": [
    "df_esp.sort_values(by=\"popularidad\", ascending=False)"
   ]
  },
  {
   "cell_type": "code",
   "execution_count": 23,
   "metadata": {},
   "outputs": [
    {
     "data": {
      "text/plain": [
       "<AxesSubplot:ylabel='Frequency'>"
      ]
     },
     "execution_count": 23,
     "metadata": {},
     "output_type": "execute_result"
    },
    {
     "data": {
      "image/png": "[encoded data removed]",
      "text/plain": [
       "<Figure size 432x288 with 1 Axes>"
      ]
     },
     "metadata": {
      "needs_background": "light"
     },
     "output_type": "display_data"
    },
    {
     "data": {
      "image/png": "[encoded data removed]",
      "text/plain": [
       "<Figure size 432x288 with 1 Axes>"
      ]
     },
     "metadata": {
      "needs_background": "light"
     },
     "output_type": "display_data"
    }
   ],
   "source": [
    "#histogramas donde aparecen el éxito medio y la popularidad, solo usamos los histogramas de éxito medio\n",
    "\n",
    "%matplotlib inline\n",
    "df_esp.plot.hist(by=\"exito_medio\", bins = 30)\n",
    "df_global.plot.hist(by=\"exito_medio\", bins = 30)"
   ]
  },
  {
   "cell_type": "code",
   "execution_count": 24,
   "metadata": {},
   "outputs": [],
   "source": [
    "#añadidos los datos del grado a un dataframe para después compararlos con la popularidad \n",
    "\n",
    "data_esp = pd.DataFrame.from_dict(dict(G_esp.nodes(data=True)), orient='index')\n",
    "result = []\n",
    "for index, row in data_esp.iterrows():\n",
    "    result.append(G_esp.degree(index))\n",
    "data_esp[\"Degree\"] = result "
   ]
  },
  {
   "cell_type": "code",
   "execution_count": 25,
   "metadata": {},
   "outputs": [],
   "source": [
    "data_global = pd.DataFrame.from_dict(dict(G_global.nodes(data=True)), orient='index')\n",
    "result = []\n",
    "for index, row in data_global.iterrows():\n",
    "    result.append(G_global.degree(index))\n",
    "data_global[\"Degree\"] = result "
   ]
  },
  {
   "cell_type": "code",
   "execution_count": 26,
   "metadata": {},
   "outputs": [
    {
     "data": {
      "text/plain": [
       "<AxesSubplot:xlabel='Popularity', ylabel='Degree'>"
      ]
     },
     "execution_count": 26,
     "metadata": {},
     "output_type": "execute_result"
    },
    {
     "data": {
      "image/png": "[encoded data removed]",
      "text/plain": [
       "<Figure size 432x288 with 1 Axes>"
      ]
     },
     "metadata": {
      "needs_background": "light"
     },
     "output_type": "display_data"
    },
    {
     "data": {
      "image/png": "[encoded data removed]",
      "text/plain": [
       "<Figure size 432x288 with 1 Axes>"
      ]
     },
     "metadata": {
      "needs_background": "light"
     },
     "output_type": "display_data"
    }
   ],
   "source": [
    "%matplotlib inline\n",
    "data_global.plot(kind='scatter', x=\"Popularity\", y=\"Degree\")\n",
    "data_esp.plot(kind='scatter', x=\"Popularity\", y=\"Degree\")"
   ]
  }
 ],
 "metadata": {
  "kernelspec": {
   "display_name": "Python 3",
   "language": "python",
   "name": "python3"
  },
  "language_info": {
   "codemirror_mode": {
    "name": "ipython",
    "version": 3
   },
   "file_extension": ".py",
   "mimetype": "text/x-python",
   "name": "python",
   "nbconvert_exporter": "python",
   "pygments_lexer": "ipython3",
   "version": "3.8.5"
  }
 },
 "nbformat": 4,
 "nbformat_minor": 4
}
