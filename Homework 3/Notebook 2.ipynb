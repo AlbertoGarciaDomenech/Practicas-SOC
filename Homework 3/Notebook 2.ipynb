{
 "cells": [
  {
   "cell_type": "markdown",
   "metadata": {},
   "source": [
    "# Notebook Grafo 2"
   ]
  },
  {
   "cell_type": "code",
   "execution_count": 3,
   "metadata": {},
   "outputs": [],
   "source": [
    "import networkx as nx"
   ]
  },
  {
   "cell_type": "markdown",
   "metadata": {},
   "source": [
    "## Definición grafo"
   ]
  },
  {
   "cell_type": "code",
   "execution_count": 12,
   "metadata": {},
   "outputs": [],
   "source": [
    "#Grafo no dirigido\n",
    "\n",
    "G = nx.Graph()\n",
    "G.add_edges_from([('A','B'), ('B','C'), ('C','D'), ('D','E')])"
   ]
  },
  {
   "cell_type": "code",
   "execution_count": 13,
   "metadata": {},
   "outputs": [
    {
     "data": {
      "image/png": "[encoded data removed]",
      "text/plain": [
       "<Figure size 432x288 with 1 Axes>"
      ]
     },
     "metadata": {},
     "output_type": "display_data"
    }
   ],
   "source": [
    "#Visualización del grafo\n",
    "# nx.draw(G)\n",
    "nx.draw_networkx(G)"
   ]
  },
  {
   "cell_type": "markdown",
   "metadata": {},
   "source": [
    "## Principales medidas"
   ]
  },
  {
   "cell_type": "code",
   "execution_count": 7,
   "metadata": {},
   "outputs": [
    {
     "name": "stdout",
     "output_type": "stream",
     "text": [
      "Nodos: 5\n",
      "Aristas: 4\n",
      "Densidad: 0.4\n",
      "Numero de componentes conexas: 1\n",
      "Grado medio: 1.6\n"
     ]
    }
   ],
   "source": [
    "#Numero de nodos\n",
    "N = G.number_of_nodes()\n",
    "print(f\"Nodos: {N}\")\n",
    "\n",
    "#Numero de aristas\n",
    "L = G.number_of_edges()\n",
    "print(f\"Aristas: {L}\")\n",
    "\n",
    "#Densidad: numero de aristas en relación al máximo posible de aristas con esa cantidad de nodos.\n",
    "Density = nx.density(G)\n",
    "print(f\"Densidad: {Density}\")\n",
    "\n",
    "#numero de componentes conexas\n",
    "nConexas = nx.number_connected_components(G)\n",
    "print(f\"Numero de componentes conexas: {nConexas}\")\n",
    "\n",
    "#Grado medio\n",
    "average_degree = 2* L / N\n",
    "print(f\"Grado medio: {average_degree}\")"
   ]
  },
  {
   "cell_type": "markdown",
   "metadata": {},
   "source": [
    "## Medidas de distancia"
   ]
  },
  {
   "cell_type": "code",
   "execution_count": 8,
   "metadata": {},
   "outputs": [
    {
     "name": "stdout",
     "output_type": "stream",
     "text": [
      "Distancia media: 2.0\n",
      "Excentricidad de cada nodo: {'A': 4, 'B': 3, 'C': 2, 'D': 3, 'E': 4}\n",
      "Radio: 2\n",
      "diametro4\n",
      "Periferia: ['A', 'E']\n",
      "Centro: ['C']\n"
     ]
    }
   ],
   "source": [
    "#distancia media entre nodos\n",
    "print(f\"Distancia media: {nx.average_shortest_path_length(G)}\")\n",
    "\n",
    "#excentricidad: La mayor distancia entre el nodo n y el resto de los nodos\n",
    "print(f\"Excentricidad de cada nodo: {nx.eccentricity(G)}\")\n",
    "\n",
    "#radio: Valor minimo de excentricidad\n",
    "print(f\"Radio: {nx.radius(G)}\")\n",
    "\n",
    "#diametro: máxima distancia entre dos nodos\n",
    "print(f\"diametro{nx.diameter(G)}\")\n",
    "\n",
    "#periferia: conjunto de nodos con excentricidad=diametro\n",
    "print(f\"Periferia: {nx.periphery(G)}\")\n",
    "\n",
    "#centro: conjunto de nodos de excentricidad=radio\n",
    "print(f\"Centro: {nx.center(G)}\")"
   ]
  },
  {
   "cell_type": "markdown",
   "metadata": {},
   "source": [
    "## Clustering"
   ]
  },
  {
   "cell_type": "code",
   "execution_count": 9,
   "metadata": {},
   "outputs": [
    {
     "name": "stdout",
     "output_type": "stream",
     "text": [
      "Transitividad: 0\n"
     ]
    }
   ],
   "source": [
    "#transitividad: relación de tríadas cerradas respecto al número de tríadas abiertas de la red\n",
    "print(f\"Transitividad: {nx.transitivity(G)}\")"
   ]
  },
  {
   "cell_type": "markdown",
   "metadata": {},
   "source": [
    "## Centralidad"
   ]
  },
  {
   "cell_type": "code",
   "execution_count": 10,
   "metadata": {},
   "outputs": [
    {
     "name": "stdout",
     "output_type": "stream",
     "text": [
      "Centralidad de grado: {'A': 0.25, 'B': 0.5, 'C': 0.5, 'D': 0.5, 'E': 0.25}\n",
      "Intermediación: {'A': 0.0, 'B': 0.5, 'C': 0.6666666666666666, 'D': 0.5, 'E': 0.0}\n",
      "Cercanía: {'A': 0.4, 'B': 0.5714285714285714, 'C': 0.6666666666666666, 'D': 0.5714285714285714, 'E': 0.4}\n"
     ]
    }
   ],
   "source": [
    "#grado\n",
    "dgrCent = nx.degree_centrality(G)\n",
    "print(f\"Centralidad de grado: {dgrCent}\")\n",
    "\n",
    "#intermediación\n",
    "btwnCent = nx.betweenness_centrality(G)\n",
    "print(f\"Intermediación: {btwnCent}\")\n",
    "\n",
    "#cercanía\n",
    "clsnCent = nx.closeness_centrality(G)\n",
    "print(f\"Cercanía: {clsnCent}\")"
   ]
  }
 ],
 "metadata": {
  "kernelspec": {
   "display_name": "Python 3",
   "language": "python",
   "name": "python3"
  },
  "language_info": {
   "codemirror_mode": {
    "name": "ipython",
    "version": 3
   },
   "file_extension": ".py",
   "mimetype": "text/x-python",
   "name": "python",
   "nbconvert_exporter": "python",
   "pygments_lexer": "ipython3",
   "version": "3.7.4"
  }
 },
 "nbformat": 4,
 "nbformat_minor": 4
}
